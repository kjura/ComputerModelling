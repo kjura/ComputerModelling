{
  "nbformat": 4,
  "nbformat_minor": 0,
  "metadata": {
    "colab": {
      "name": "Brachistochrone.ipynb",
      "provenance": [],
      "collapsed_sections": []
    },
    "kernelspec": {
      "name": "python3",
      "display_name": "Python 3"
    }
  },
  "cells": [
    {
      "cell_type": "markdown",
      "metadata": {
        "id": "gGabea3XyglF",
        "colab_type": "text"
      },
      "source": [
        "#Goal"
      ]
    },
    {
      "cell_type": "markdown",
      "metadata": {
        "id": "WTPXtFkLykdP",
        "colab_type": "text"
      },
      "source": [
        "Given two points 1 and 2, with 1 higher above the ground, what should be the shape of a potential path that makes a point moving from point 1 to point 2 in the shortest possible time?"
      ]
    },
    {
      "cell_type": "markdown",
      "metadata": {
        "id": "afvSoa7q4dzt",
        "colab_type": "text"
      },
      "source": [
        "# Setting up the problem"
      ]
    },
    {
      "cell_type": "markdown",
      "metadata": {
        "id": "TtioQdAQ4vKt",
        "colab_type": "text"
      },
      "source": [
        "The time to travel from $1$ to $2$ is given by: time$(1 -> 2)$$= \\int_{1}^{2} \\frac{ds}{v}$"
      ]
    },
    {
      "cell_type": "markdown",
      "metadata": {
        "id": "sDXxv0cYEoFD",
        "colab_type": "text"
      },
      "source": [
        "By conservation of energy we know that $v = \\sqrt{2gy}$"
      ]
    },
    {
      "cell_type": "markdown",
      "metadata": {
        "id": "jWjHNeFVFTvg",
        "colab_type": "text"
      },
      "source": [
        "Because this gives $v$ as a function of $y$ it is convenient to use $y$ as an independent variable. That is: the unknown $x = x(y)$"
      ]
    },
    {
      "cell_type": "markdown",
      "metadata": {
        "id": "42nJz-a9KBHv",
        "colab_type": "text"
      },
      "source": [
        "Now we can write the distance $ds$ between neighboring points on the path as:"
      ]
    },
    {
      "cell_type": "markdown",
      "metadata": {
        "id": "kyeUsbh5KSpT",
        "colab_type": "text"
      },
      "source": [
        "$$ ds = \\sqrt{dx^{2} + dy^{2}} = \\sqrt{x'(y)^{2} + 1} dy $$"
      ]
    },
    {
      "cell_type": "markdown",
      "metadata": {
        "id": "oPh4NfDuLCTO",
        "colab_type": "text"
      },
      "source": [
        "Substituting to the integral above:"
      ]
    },
    {
      "cell_type": "markdown",
      "metadata": {
        "id": "6fCTgoTlLNor",
        "colab_type": "text"
      },
      "source": [
        "$$\\int_{1}^{2} \\frac{ds}{v} = \\int_{0}^{y_2} \\frac{\\sqrt{x'(y)^{2} + 1}}{\\sqrt{2gy}}dy = \\frac{1}{\\sqrt{2g}}\\int_{0}^{y_2} \\frac{\\sqrt{x'(y)^{2} + 1}}{\\sqrt{y}}dy$$"
      ]
    },
    {
      "cell_type": "markdown",
      "metadata": {
        "id": "ofs0GySXUIPv",
        "colab_type": "text"
      },
      "source": [
        "Where our integrand is a function:"
      ]
    },
    {
      "cell_type": "markdown",
      "metadata": {
        "id": "-XAp4__MU-u7",
        "colab_type": "text"
      },
      "source": [
        "$$ f(x, x', y) = \\frac{\\sqrt{x'^{2} + 1}}{\\sqrt{y}} $$"
      ]
    },
    {
      "cell_type": "markdown",
      "metadata": {
        "id": "veLq5JrRP70X",
        "colab_type": "text"
      },
      "source": [
        "Now we seek the path that makes the time as small as possible so we'll find Euler-Lagrange equations handy:"
      ]
    },
    {
      "cell_type": "markdown",
      "metadata": {
        "id": "NbwATFMDQfgz",
        "colab_type": "text"
      },
      "source": [
        "$$ \\frac{\\partial f}{\\partial x} = \\frac{d}{dy}\\frac{\\partial f}{\\partial x'} $$"
      ]
    },
    {
      "cell_type": "markdown",
      "metadata": {
        "id": "sbp7kfBDQ7Wa",
        "colab_type": "text"
      },
      "source": [
        "Since $ \\frac{\\partial f}{\\partial x} $ equals $0$ because $f$ does not depend on $x$ we conclude that $\\frac{\\partial f}{\\partial x'}$ is constant."
      ]
    },
    {
      "cell_type": "markdown",
      "metadata": {
        "id": "pV9rdTL3WtSy",
        "colab_type": "text"
      },
      "source": [
        "$$ \\frac{\\partial f}{\\partial x'} = \\frac{x'}{\\sqrt{x'^{2}+1}\\sqrt{y}}$$"
      ]
    },
    {
      "cell_type": "markdown",
      "metadata": {
        "id": "qFSjL-ICXrIB",
        "colab_type": "text"
      },
      "source": [
        "Squaring the above derivative and naming the constant $\\frac{1}{2a}$  for future convenience we have:"
      ]
    },
    {
      "cell_type": "markdown",
      "metadata": {
        "id": "TZturxtUX72Z",
        "colab_type": "text"
      },
      "source": [
        "$$ \\frac{x'^2}{(x'^{2}+1)y} = constant = \\frac{1}{2a} $$"
      ]
    },
    {
      "cell_type": "markdown",
      "metadata": {
        "id": "Ruh87Cg6ZALD",
        "colab_type": "text"
      },
      "source": [
        "Solving for $x'$:"
      ]
    },
    {
      "cell_type": "markdown",
      "metadata": {
        "id": "ZWt_9JFOarjc",
        "colab_type": "text"
      },
      "source": [
        ""
      ]
    },
    {
      "cell_type": "markdown",
      "metadata": {
        "id": "xJxCkfOxVJYZ",
        "colab_type": "text"
      },
      "source": [
        "# My solution"
      ]
    },
    {
      "cell_type": "code",
      "metadata": {
        "id": "oXvci50lVL99",
        "colab_type": "code",
        "colab": {
          "base_uri": "https://localhost:8080/",
          "height": 154
        },
        "outputId": "8eb94d92-fa33-48bd-a2bd-807677b91a8e"
      },
      "source": [
        "import numpy as np\n",
        "import matplotlib.pyplot as plt\n",
        "import scipy.integrate as integrate\n",
        "\n",
        "g = 9.81 # m/s^2 , gravitational acceleration\n",
        "\n",
        "def brachi(a):\n",
        "\n",
        "  theta = np.linspace(0, 2 * np.pi, 100)\n",
        "\n",
        "  x = a*(theta - np.sin(theta))\n",
        "  y = a*(1 - np.cos(theta))\n",
        "\n",
        "  return (x, y)\n",
        "\n",
        "brachi = brachi(3.0)\n",
        "\n",
        "a = 3.0\n",
        "\n",
        "fig, ax = plt.subplots(1) \n",
        "plt.style.use(['dark_background'])\n",
        "\n",
        "#ax.set_ylim(a*(1.5 - np.cos(np.pi)), 0)\n",
        "#ax.set_xlim(0, 3.5*(np.pi - np.sin(np.pi)))\n",
        "\n",
        "plt.gca().invert_yaxis()\n",
        "\n",
        "ax.plot(brachi[0], brachi[1])\n",
        "ax.set_aspect(1)\n",
        "\n",
        "plt.show()\n",
        "\n",
        "\n",
        "\n"
      ],
      "execution_count": 45,
      "outputs": [
        {
          "output_type": "display_data",
          "data": {
            "image/png": "[encoded data removed]",
            "text/plain": [
              "<Figure size 432x288 with 1 Axes>"
            ]
          },
          "metadata": {
            "tags": []
          }
        }
      ]
    },
    {
      "cell_type": "code",
      "metadata": {
        "id": "kojHPnp3qqrc",
        "colab_type": "code",
        "colab": {
          "base_uri": "https://localhost:8080/",
          "height": 34
        },
        "outputId": "f406d546-5621-4343-f5b9-b3496ae4cb1e"
      },
      "source": [
        "def brachi_integrand(y):\n",
        "\n",
        "  xprime = np.sqrt(y / (2 * a - y))\n",
        "\n",
        "  return np.sqrt((xprime**2) + 1) / np.sqrt(2 * g * y)\n",
        "\n",
        "\n",
        "I = quad(brachi_integrand, 0, 6) # Add additional arguments for function \n",
        "I\n"
      ],
      "execution_count": 48,
      "outputs": [
        {
          "output_type": "execute_result",
          "data": {
            "text/plain": [
              "(1.7373047071821675, 3.476658960721579e-10)"
            ]
          },
          "metadata": {
            "tags": []
          },
          "execution_count": 48
        }
      ]
    }
  ]
}
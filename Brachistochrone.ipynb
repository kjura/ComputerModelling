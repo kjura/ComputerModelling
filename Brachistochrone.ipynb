{
  "nbformat": 4,
  "nbformat_minor": 0,
  "metadata": {
    "colab": {
      "name": "Brachistochrone.ipynb",
      "provenance": [],
      "collapsed_sections": []
    },
    "kernelspec": {
      "name": "python3",
      "display_name": "Python 3"
    }
  },
  "cells": [
    {
      "cell_type": "markdown",
      "metadata": {
        "id": "gGabea3XyglF",
        "colab_type": "text"
      },
      "source": [
        "#Goal"
      ]
    },
    {
      "cell_type": "markdown",
      "metadata": {
        "id": "WTPXtFkLykdP",
        "colab_type": "text"
      },
      "source": [
        "Given two points 1 and 2, with 1 higher above the ground, what should be the shape of a potential path that makes a point moving from point 1 to point 2 in the shortest possible time?"
      ]
    },
    {
      "cell_type": "markdown",
      "metadata": {
        "id": "afvSoa7q4dzt",
        "colab_type": "text"
      },
      "source": [
        "# Setting up the problem"
      ]
    },
    {
      "cell_type": "markdown",
      "metadata": {
        "id": "TtioQdAQ4vKt",
        "colab_type": "text"
      },
      "source": [
        "The time to travel from $1$ to $2$ is given by: time$(1 -> 2)$$= \\int_{1}^{2} \\frac{ds}{v}$"
      ]
    },
    {
      "cell_type": "markdown",
      "metadata": {
        "id": "sDXxv0cYEoFD",
        "colab_type": "text"
      },
      "source": [
        "By conservation of energy we know that $v = \\sqrt{2gy}$"
      ]
    },
    {
      "cell_type": "markdown",
      "metadata": {
        "id": "jWjHNeFVFTvg",
        "colab_type": "text"
      },
      "source": [
        "Because this gives $v$ as a function of $y$ it is convenient to use $y$ as an independent variable. That is: the unknown $x = x(y)$"
      ]
    },
    {
      "cell_type": "markdown",
      "metadata": {
        "id": "42nJz-a9KBHv",
        "colab_type": "text"
      },
      "source": [
        "Now we can write the distance $ds$ between neighboring points on the path as:"
      ]
    },
    {
      "cell_type": "markdown",
      "metadata": {
        "id": "kyeUsbh5KSpT",
        "colab_type": "text"
      },
      "source": [
        "$$ ds = \\sqrt{dx^{2} + dy^{2}} = \\sqrt{x'(y)^{2} + 1} dy $$"
      ]
    },
    {
      "cell_type": "markdown",
      "metadata": {
        "id": "oPh4NfDuLCTO",
        "colab_type": "text"
      },
      "source": [
        "Substituting to the integral above:"
      ]
    },
    {
      "cell_type": "markdown",
      "metadata": {
        "id": "6fCTgoTlLNor",
        "colab_type": "text"
      },
      "source": [
        "$$\\int_{1}^{2} \\frac{ds}{v} = \\int_{0}^{y_2} \\frac{\\sqrt{x'(y)^{2} + 1}}{\\sqrt{2gy}}dy = \\frac{1}{\\sqrt{2g}}\\int_{0}^{y_2} \\frac{\\sqrt{x'(y)^{2} + 1}}{\\sqrt{y}}dy$$"
      ]
    },
    {
      "cell_type": "markdown",
      "metadata": {
        "id": "ofs0GySXUIPv",
        "colab_type": "text"
      },
      "source": [
        "Where our integrand is a function:"
      ]
    },
    {
      "cell_type": "markdown",
      "metadata": {
        "id": "-XAp4__MU-u7",
        "colab_type": "text"
      },
      "source": [
        "$$ f(x, x', y) = \\frac{\\sqrt{x'^{2} + 1}}{\\sqrt{y}} $$"
      ]
    },
    {
      "cell_type": "markdown",
      "metadata": {
        "id": "veLq5JrRP70X",
        "colab_type": "text"
      },
      "source": [
        "Now we seek the path that makes the time as small as possible so we'll find Euler-Lagrange equations handy:"
      ]
    },
    {
      "cell_type": "markdown",
      "metadata": {
        "id": "NbwATFMDQfgz",
        "colab_type": "text"
      },
      "source": [
        "$$ \\frac{\\partial f}{\\partial x} = \\frac{d}{dy}\\frac{\\partial f}{\\partial x'} $$"
      ]
    },
    {
      "cell_type": "markdown",
      "metadata": {
        "id": "sbp7kfBDQ7Wa",
        "colab_type": "text"
      },
      "source": [
        "Since $ \\frac{\\partial f}{\\partial x} $ equals $0$ because $f$ does not depend on $x$ we conclude that $\\frac{\\partial f}{\\partial x'}$ is constant."
      ]
    },
    {
      "cell_type": "markdown",
      "metadata": {
        "id": "pV9rdTL3WtSy",
        "colab_type": "text"
      },
      "source": [
        "$$ \\frac{\\partial f}{\\partial x'} = \\frac{x'}{\\sqrt{x'^{2}+1}\\sqrt{y}}$$"
      ]
    },
    {
      "cell_type": "markdown",
      "metadata": {
        "id": "qFSjL-ICXrIB",
        "colab_type": "text"
      },
      "source": [
        "Squaring the above derivative and naming the constant $\\frac{1}{2a}$  for future convenience we have:"
      ]
    },
    {
      "cell_type": "markdown",
      "metadata": {
        "id": "TZturxtUX72Z",
        "colab_type": "text"
      },
      "source": [
        "$$ \\frac{x'^2}{(x'^{2}+1)y} = constant = \\frac{1}{2a} $$"
      ]
    },
    {
      "cell_type": "markdown",
      "metadata": {
        "id": "Ruh87Cg6ZALD",
        "colab_type": "text"
      },
      "source": [
        "Solving for $x'$:"
      ]
    },
    {
      "cell_type": "markdown",
      "metadata": {
        "id": "ZWt_9JFOarjc",
        "colab_type": "text"
      },
      "source": [
        "$$ x' = \\sqrt{\\frac{y}{2a - y}} $$\n"
      ]
    },
    {
      "cell_type": "markdown",
      "metadata": {
        "id": "iYhTZvSwa82u",
        "colab_type": "text"
      },
      "source": [
        "Integrating both sides:"
      ]
    },
    {
      "cell_type": "markdown",
      "metadata": {
        "id": "o-03uPvIa_2M",
        "colab_type": "text"
      },
      "source": [
        "$$ x = \\int \\sqrt{\\frac{y}{2a - y}} dy $$"
      ]
    },
    {
      "cell_type": "markdown",
      "metadata": {
        "id": "WFfMvDUDbRoD",
        "colab_type": "text"
      },
      "source": [
        "This integral can be evaluated using not so common substitution $y = a(1 - \\cos(\\theta))$"
      ]
    },
    {
      "cell_type": "markdown",
      "metadata": {
        "id": "wGP7I-ewbgTm",
        "colab_type": "text"
      },
      "source": [
        "Which gives:"
      ]
    },
    {
      "cell_type": "markdown",
      "metadata": {
        "id": "t09CnF5JbiUi",
        "colab_type": "text"
      },
      "source": [
        "$$ x = a \\int \\Big( 1 - \\cos \\theta \\Big) d \\theta = a(\\theta - \\sin \\theta) + C $$"
      ]
    },
    {
      "cell_type": "markdown",
      "metadata": {
        "id": "SmpP8WP5cF1P",
        "colab_type": "text"
      },
      "source": [
        "We have the parametric equations (with the parameter $\\theta$) that give us the path of minimum time travel. By choosing cleverly our initial conditions $x = y = 0$ for point $1$ we see that the initial value of $\\theta$ is zero, for us that means the constant of integration is zero, giving the final form of equations as:"
      ]
    },
    {
      "cell_type": "markdown",
      "metadata": {
        "id": "sfcoz-m5grwO",
        "colab_type": "text"
      },
      "source": [
        "$$ x(\\theta) = a(\\theta - \\sin \\theta) $$"
      ]
    },
    {
      "cell_type": "markdown",
      "metadata": {
        "id": "0BNxt4REhPFG",
        "colab_type": "text"
      },
      "source": [
        "$$ y(\\theta) = a(1 - \\cos \\theta) $$"
      ]
    },
    {
      "cell_type": "markdown",
      "metadata": {
        "id": "eLZ5bKZNhYYj",
        "colab_type": "text"
      },
      "source": [
        "With the constant $a$ chosen so the curve passes through the given point $(x2, y2)$."
      ]
    },
    {
      "cell_type": "markdown",
      "metadata": {
        "id": "o0r0WMLtk2pH",
        "colab_type": "text"
      },
      "source": [
        "Dividing $y2 / x2$ we can obtain the equation:"
      ]
    },
    {
      "cell_type": "markdown",
      "metadata": {
        "id": "MsXFua1rlF36",
        "colab_type": "text"
      },
      "source": [
        "$$ \\frac{y2}{x2} = \\frac{1 - \\cos \\theta_{2}}{\\theta_{2} - \\sin \\theta_{2}}$$"
      ]
    },
    {
      "cell_type": "markdown",
      "metadata": {
        "id": "ING8ubxAlpQo",
        "colab_type": "text"
      },
      "source": [
        "Where $\\theta_{2}$ (found numerically) gives us the final position on the curve."
      ]
    },
    {
      "cell_type": "markdown",
      "metadata": {
        "id": "Rio6D3-OmcH1",
        "colab_type": "text"
      },
      "source": [
        "From a trivial transformation one can obtain $a$ constant so the curve passes through final points."
      ]
    },
    {
      "cell_type": "markdown",
      "metadata": {
        "id": "V1a-rtplmIP5",
        "colab_type": "text"
      },
      "source": [
        "$$ \\frac{y2}{1 - \\cos \\theta_{2}} = a $$"
      ]
    },
    {
      "cell_type": "markdown",
      "metadata": {
        "id": "xJxCkfOxVJYZ",
        "colab_type": "text"
      },
      "source": [
        "# My solution"
      ]
    },
    {
      "cell_type": "code",
      "metadata": {
        "id": "oXvci50lVL99",
        "colab_type": "code",
        "colab": {
          "base_uri": "https://localhost:8080/",
          "height": 261
        },
        "outputId": "5ff9f043-a3d4-4b24-d9ce-487946618f8c"
      },
      "source": [
        "import numpy as np\n",
        "import matplotlib.pyplot as plt\n",
        "import scipy.integrate as integrate\n",
        "import scipy.optimize as opt\n",
        "\n",
        "g = 9.81 # m/s^2 , gravitational acceleration\n",
        "\n",
        "def brachi(x2, y2, N=50):\n",
        "\n",
        "\n",
        "  # Find theta2\n",
        "\n",
        "  def final_position(theta):\n",
        "    return (y2 / x2) - ((1 - np.cos(theta))/(theta - np.sin(theta)))\n",
        "\n",
        "  theta2 = opt.newton(final_position, np.pi)\n",
        "\n",
        "  # Generate \"a\" parameter\n",
        "\n",
        "  a = y2 / (1 - np.cos(theta2))\n",
        "\n",
        "\n",
        "  # Prepare data for plotting\n",
        "\n",
        "  theta = np.linspace(0, theta2, N)\n",
        "\n",
        "  x = a*(theta - np.sin(theta))\n",
        "  y = a*(1 - np.cos(theta))\n",
        "\n",
        "\n",
        "  # Find time of travel\n",
        "\n",
        "\n",
        "  return (x, y, travel_t)\n",
        "\n",
        "\n",
        "fig, ax = plt.subplots(1) \n",
        "plt.style.use(['dark_background'])\n",
        "\n",
        "\n",
        "plt.gca().invert_yaxis()\n",
        "\n",
        "ax.set_aspect(1)\n",
        "\n",
        "\n",
        "\n",
        "\n",
        "\n"
      ],
      "execution_count": 18,
      "outputs": [
        {
          "output_type": "display_data",
          "data": {
            "image/png": "[encoded data removed]",
            "text/plain": [
              "<Figure size 432x288 with 1 Axes>"
            ]
          },
          "metadata": {
            "tags": []
          }
        }
      ]
    }
  ]
}